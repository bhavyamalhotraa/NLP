{
 "cells": [
  {
   "attachments": {},
   "cell_type": "markdown",
   "metadata": {},
   "source": [
    "Information Extraction"
   ]
  },
  {
   "cell_type": "code",
   "execution_count": 40,
   "metadata": {},
   "outputs": [],
   "source": [
    "import re"
   ]
  },
  {
   "cell_type": "code",
   "execution_count": 72,
   "metadata": {},
   "outputs": [],
   "source": [
    "text='''Born\tJennifer Joanna Aniston\n",
    "February 11, 1969 (age 53)\n",
    "Los Angeles, California, U.S.\n",
    "Occupations\t\n",
    "Actressproducer\n",
    "Years active\t1987–present\n",
    "Works\tFull list\n",
    "Spouses\t\n",
    "Brad Pitt\n",
    "​\n",
    "​(m. 2000; div. 2005)​\n",
    "Justin Theroux\n",
    "​\n",
    "​(m. 2015; sep. 2017)​\n",
    "Parents\t\n",
    "John Aniston (father)\n",
    "Nancy Dow (mother)\n",
    "Awards\tFull list\n",
    "'''"
   ]
  },
  {
   "cell_type": "code",
   "execution_count": 42,
   "metadata": {},
   "outputs": [
    {
     "data": {
      "text/plain": [
       "'50'"
      ]
     },
     "execution_count": 42,
     "metadata": {},
     "output_type": "execute_result"
    }
   ],
   "source": [
    "#age in text\n",
    "pattern = 'age (\\d+)'\n",
    "matches = re.findall(pattern, text)\n",
    "matches[0]"
   ]
  },
  {
   "cell_type": "code",
   "execution_count": 68,
   "metadata": {},
   "outputs": [
    {
     "data": {
      "text/plain": [
       "'Elon Reeve Musk'"
      ]
     },
     "execution_count": 68,
     "metadata": {},
     "output_type": "execute_result"
    }
   ],
   "source": [
    "#name in text\n",
    "pattern = 'Born(.*)'\n",
    "matches1 = re.findall(pattern, text)\n",
    "matches1[0].strip()"
   ]
  },
  {
   "cell_type": "code",
   "execution_count": 44,
   "metadata": {},
   "outputs": [
    {
     "data": {
      "text/plain": [
       "'June 28, 1971'"
      ]
     },
     "execution_count": 44,
     "metadata": {},
     "output_type": "execute_result"
    }
   ],
   "source": [
    "#birthday in text\n",
    "pattern = 'Born.*\\n(.*)\\(age'\n",
    "matches2 = re.findall(pattern, text)\n",
    "matches2[0].strip()\n",
    "#strip for eliminating white space "
   ]
  },
  {
   "cell_type": "code",
   "execution_count": 69,
   "metadata": {},
   "outputs": [
    {
     "data": {
      "text/plain": [
       "'Pretoria, Transvaal, South Africa'"
      ]
     },
     "execution_count": 69,
     "metadata": {},
     "output_type": "execute_result"
    }
   ],
   "source": [
    "#birthplace\n",
    "pattern = '\\(age.*\\n(.*)'\n",
    "matches3 = re.findall(pattern, text)\n",
    "matches3[0]"
   ]
  },
  {
   "cell_type": "code",
   "execution_count": 73,
   "metadata": {},
   "outputs": [],
   "source": [
    "def get_pattern_match(pattern, text):\n",
    "    matches = re.findall(pattern, text)\n",
    "    if matches:\n",
    "        return matches[0]\n",
    " "
   ]
  },
  {
   "cell_type": "code",
   "execution_count": 48,
   "metadata": {},
   "outputs": [
    {
     "data": {
      "text/plain": [
       "'Pretoria, Transvaal, South Africa'"
      ]
     },
     "execution_count": 48,
     "metadata": {},
     "output_type": "execute_result"
    }
   ],
   "source": [
    "get_pattern_match('\\(age.*\\n(.*)', text)"
   ]
  },
  {
   "cell_type": "code",
   "execution_count": 74,
   "metadata": {},
   "outputs": [],
   "source": [
    "#function\n",
    "def get_personal_info (text):\n",
    "    age = get_pattern_match('age (\\d+)', text)\n",
    "    name = get_pattern_match('Born(.*)', text)\n",
    "    birthday = get_pattern_match('Born.*\\n(.*)\\(age', text)\n",
    "    birthplace = get_pattern_match('\\(age.*\\n(.*)', text)\n",
    "    \n",
    "    return {\n",
    "        'age': int(age),\n",
    "        'name': name.strip(),\n",
    "        'birthday': birthday.strip(),\n",
    "        'birthplace': birthplace.strip()\n",
    "    }\n"
   ]
  },
  {
   "cell_type": "code",
   "execution_count": 75,
   "metadata": {},
   "outputs": [
    {
     "data": {
      "text/plain": [
       "{'age': 53,\n",
       " 'name': 'Jennifer Joanna Aniston',\n",
       " 'birthday': 'February 11, 1969',\n",
       " 'birthplace': 'Los Angeles, California, U.S.'}"
      ]
     },
     "execution_count": 75,
     "metadata": {},
     "output_type": "execute_result"
    }
   ],
   "source": [
    "get_personal_info (text)"
   ]
  }
 ],
 "metadata": {
  "kernelspec": {
   "display_name": "base",
   "language": "python",
   "name": "python3"
  },
  "language_info": {
   "codemirror_mode": {
    "name": "ipython",
    "version": 3
   },
   "file_extension": ".py",
   "mimetype": "text/x-python",
   "name": "python",
   "nbconvert_exporter": "python",
   "pygments_lexer": "ipython3",
   "version": "3.9.13"
  },
  "orig_nbformat": 4,
  "vscode": {
   "interpreter": {
    "hash": "ee9dfcf03ef883f799e8db599acd57d78b13ea7c83670eb20ef8000875df171a"
   }
  }
 },
 "nbformat": 4,
 "nbformat_minor": 2
}
